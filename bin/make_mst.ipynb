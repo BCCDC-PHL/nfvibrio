{
 "cells": [
  {
   "cell_type": "code",
   "execution_count": 71,
   "metadata": {},
   "outputs": [
    {
     "data": {
      "text/html": [
       "        <script type=\"text/javascript\">\n",
       "        window.PlotlyConfig = {MathJaxConfig: 'local'};\n",
       "        if (window.MathJax && window.MathJax.Hub && window.MathJax.Hub.Config) {window.MathJax.Hub.Config({SVG: {font: \"STIX-Web\"}});}\n",
       "        if (typeof require !== 'undefined') {\n",
       "        require.undef(\"plotly\");\n",
       "        requirejs.config({\n",
       "            paths: {\n",
       "                'plotly': ['https://cdn.plot.ly/plotly-2.20.0.min']\n",
       "            }\n",
       "        });\n",
       "        require(['plotly'], function(Plotly) {\n",
       "            window._Plotly = Plotly;\n",
       "        });\n",
       "        }\n",
       "        </script>\n",
       "        "
      ]
     },
     "metadata": {},
     "output_type": "display_data"
    },
    {
     "data": {
      "text/html": [
       "<style>.container { width:100% !important; }</style>"
      ],
      "text/plain": [
       "<IPython.core.display.HTML object>"
      ]
     },
     "metadata": {},
     "output_type": "display_data"
    }
   ],
   "source": [
    "import numpy as np\n",
    "import pandas as pd\n",
    "import networkx as nx\n",
    "import plotly.io as pio\n",
    "import plotly.graph_objects as go\n",
    "from IPython.display import HTML, display\n",
    "import IPython \n",
    "from plotly.offline import init_notebook_mode\n",
    "import sys, os, argparse\n",
    "\n",
    "CONFIG_FILE = '.ipynb.config'\n",
    "if os.path.isfile(CONFIG_FILE):\n",
    "    with open(CONFIG_FILE) as f:\n",
    "        sys.argv = f.read().split()\n",
    "else:\n",
    "\tsys.argv = ['run_notebook.py', '/home/john.palmer/work/vibrio/results-may5-1/mlst/master.tsv']\n",
    "\n",
    "parser = argparse.ArgumentParser()\n",
    "parser.add_argument(\"mlst\",help=\"Input master MLST TSV file containing all samples in a run.\")\n",
    "args = parser.parse_args()\n",
    "\n",
    "mlst_path = args.mlst\n",
    "\n",
    "init_notebook_mode(connected=True)\n",
    "pio.renderers.default = \"notebook\"\n",
    "\n",
    "display(HTML(\"<style>.container { width:100% !important; }</style>\"))\n",
    "def compare(mlst1, mlst2):\n",
    "\tdiffs = 0 \n",
    "\tfor a, b in zip(mlst1, mlst2):\n",
    "\t\tif a != b:\n",
    "\t\t\tdiffs += 1\n",
    "\treturn diffs"
   ]
  },
  {
   "cell_type": "code",
   "execution_count": 72,
   "metadata": {},
   "outputs": [],
   "source": [
    "cols = 'sample organism mlst 1 2 3 4 5 6 7'.split()\n",
    "df = pd.read_csv(mlst_path, sep='\\t', names=cols)\n"
   ]
  },
  {
   "cell_type": "code",
   "execution_count": 73,
   "metadata": {},
   "outputs": [
    {
     "name": "stdout",
     "output_type": "stream",
     "text": [
      "{'417': 24, '36': 19, '631': 5, '-': 4, '43': 2, '68': 1, '3': 1, '65': 1}\n",
      "[('3', '36', 7), ('3', '417', 6), ('3', '43', 7), ('3', '631', 7), ('3', '65', 7), ('3', '68', 7), ('36', '417', 7), ('36', '43', 7), ('36', '631', 7), ('36', '65', 7), ('36', '68', 7), ('417', '43', 7), ('417', '631', 7), ('417', '65', 7), ('417', '68', 7), ('43', '631', 7), ('43', '65', 7), ('43', '68', 7), ('631', '65', 7), ('631', '68', 7), ('65', '68', 7)]\n"
     ]
    }
   ],
   "source": [
    "\n",
    "counts = df['mlst'].value_counts().to_dict()\n",
    "\n",
    "uniq = df.groupby('mlst').first()\n",
    "uniq = uniq.drop(uniq.index[uniq.index=='-']).reset_index()\n",
    "# uniq.loc[:,'1':'7'] = uniq.loc[:,'1':'7'].apply(lambda x : x.str.split(\"(\").str[0])\n",
    "\n",
    "diff_df = []\n",
    "for n in range(uniq.shape[0]):\n",
    "\trow = []\n",
    "\tfor m in range(n+1, uniq.shape[0]):\n",
    "\t\tmlst1 = uniq.loc[n, '1':'7'].tolist()\n",
    "\t\tmlst2 = uniq.loc[m, '1':'7'].tolist()\n",
    "\t\trow.append((uniq.loc[n,'mlst'], uniq.loc[m,'mlst'], compare(mlst1, mlst2)))\n",
    "\t\n",
    "\tdiff_df += row\n"
   ]
  },
  {
   "cell_type": "code",
   "execution_count": 74,
   "metadata": {},
   "outputs": [],
   "source": [
    "G = nx.Graph()\n",
    "\n",
    "for node1, node2, weight in diff_df:\n",
    "\tif weight < 7:\n",
    "\t\tG.add_edge(node1, node2, weight=weight )\n",
    "\telse:\n",
    "\t\tG.add_node(node1)\n",
    "\t\tG.add_node(node2)\n",
    "\n",
    "mst = nx.minimum_spanning_tree(G)"
   ]
  },
  {
   "cell_type": "code",
   "execution_count": 75,
   "metadata": {},
   "outputs": [],
   "source": [
    "def get_edge_trace(graph, positions):\n",
    "\tedge_x = []\n",
    "\tedge_y = []\n",
    "\tedge_text = []\n",
    "\n",
    "\tfor n1, n2 in graph.edges():\n",
    "\t\tx0, y0 = positions[n1]\n",
    "\t\tx1, y1 = positions[n2]\n",
    "\t\tedge_x += [x0, (x0+x1)/2, x1, None]\n",
    "\t\tedge_y += [y0, (y0+y1)/2, y1, None]\n",
    "\t\tedge_text += [None, str(graph.get_edge_data(n1,n2)['weight']), None, None]\n",
    "\t\t#node_text += [None, str(mst.get_edge_data(n1,n2)['weight']), None, None]\n",
    "\tedge_trace = go.Scatter(\n",
    "\t\tx=edge_x, y=edge_y,\n",
    "\t\tline=dict(width=0.8, color='#888'),\n",
    "\t\thoverinfo='none',\n",
    "\t\ttext=edge_text,\n",
    "\t\ttextposition='top center',\n",
    "\t\tmode='lines+text')\n",
    "\treturn edge_trace\n",
    "\n",
    "def get_node_trace(graph, positions):\n",
    "\tnode_x = []\n",
    "\tnode_y = []\n",
    "\n",
    "\tfor node in graph.nodes():\n",
    "\t\tx, y = positions[node]\n",
    "\t\tnode_x.append(x)\n",
    "\t\tnode_y.append(y)\n",
    "\n",
    "\tnode_sizes = []\n",
    "\tnode_text = []\n",
    "\n",
    "\tfor node in graph.nodes:\n",
    "\t\tadj = dict(graph.adjacency())\n",
    "\t\t# node_sizes.append(len(adj[node]))\n",
    "\t\tnode_sizes.append(np.sqrt(counts[node]*100))\n",
    "\t\tnode_text.append(f'MLST: {node}<br># samples: {counts[node]}<br># connections: {str(len(adj[node]))} \\n')\n",
    "\n",
    "\tnode_trace = go.Scatter(\n",
    "\t\tx=node_x, y=node_y,\n",
    "\t\tmode='markers+text',\n",
    "\t\thoverinfo='text',\n",
    "\t\thovertext=node_text,\n",
    "\t\ttext=[str(x) for x in graph.nodes],\n",
    "\t\ttextposition='bottom center',\n",
    "\t\tmarker=dict(\n",
    "\t\t\tshowscale=True,\n",
    "\t\t\t# colorscale options\n",
    "\t\t\t#'Greys' | 'YlGnBu' | 'Greens' | 'YlOrRd' | 'Bluered' | 'RdBu' |\n",
    "\t\t\t#'Reds' | 'Blues' | 'Picnic' | 'Rainbow' | 'Portland' | 'Jet' |\n",
    "\t\t\t#'Hot' | 'Blackbody' | 'Earth' | 'Electric' | 'Viridis' |\n",
    "\t\t\tcolorscale='YlGnBu',\n",
    "\t\t\treversescale=True,\n",
    "\t\t\tcolor=[],\n",
    "\t\t\tsize=node_sizes,\n",
    "\t\t\tcolorbar=dict(\n",
    "\t\t\t\tthickness=15,\n",
    "\t\t\t\ttitle='Number of Samples',\n",
    "\t\t\t\txanchor='left',\n",
    "\t\t\t\ttitleside='right'\n",
    "\t\t\t),\n",
    "\t\t\tline_width=2, line_color='black'))\n",
    "\t\n",
    "\tnode_trace.marker.color = node_sizes\n",
    "\treturn node_trace\t\n"
   ]
  },
  {
   "cell_type": "code",
   "execution_count": 124,
   "metadata": {},
   "outputs": [],
   "source": [
    "\n",
    "def plot_graph(graph):\n",
    "\tpos_dict = nx.planar_layout(graph)#, weight='weight')\n",
    "\n",
    "\tedge_trace = get_edge_trace(graph, pos_dict)\n",
    "\tnode_trace = get_node_trace(graph, pos_dict)\n",
    "\n",
    "\tfig = go.Figure(data=[edge_trace, node_trace],\n",
    "\t\t\tlayout=go.Layout(\n",
    "\t\t\t\ttitle='MLST Minimum Spanning Tree',\n",
    "\t\t\t\ttitlefont_size=16,\n",
    "\t\t\t\theight=700, width=1300,\n",
    "\t\t\t\tshowlegend=False,\n",
    "\t\t\t\thovermode='closest',\n",
    "\t\t\t\t#margin=dict(b=20,l=5,r=5,t=40),\n",
    "\t\t\t\tannotations=[ dict(\n",
    "\t\t\t\t\ttext=\"By: John P.\",\n",
    "\t\t\t\t\tshowarrow=False,\n",
    "\t\t\t\t\txref=\"paper\", yref=\"paper\",\n",
    "\t\t\t\t\tx=-0.005, y=-0.002 ) ],\n",
    "\t\t\t\txaxis=dict(showgrid=False, zeroline=False, showticklabels=False),\n",
    "\t\t\t\tyaxis=dict(showgrid=False, zeroline=False, showticklabels=False))\n",
    "\t\t\t)\n",
    "\tfig.update_layout(\n",
    "\t\tfont=dict(\n",
    "\t\t\t#family=\"Courier New, monospace\",\n",
    "\t\t\tsize=15,  # Set the font size here\n",
    "\t\t)\n",
    "\t)\n",
    "\treturn fig"
   ]
  },
  {
   "cell_type": "code",
   "execution_count": 125,
   "metadata": {},
   "outputs": [
    {
     "data": {
      "text/html": [
       "<div>                            <div id=\"84fd10e0-c605-462e-8341-00e8ef414a53\" class=\"plotly-graph-div\" style=\"height:800px; width:1400px;\"></div>            <script type=\"text/javascript\">                require([\"plotly\"], function(Plotly) {                    window.PLOTLYENV=window.PLOTLYENV || {};                                    if (document.getElementById(\"84fd10e0-c605-462e-8341-00e8ef414a53\")) {                    Plotly.newPlot(                        \"84fd10e0-c605-462e-8341-00e8ef414a53\",                        [{\"hoverinfo\":\"none\",\"line\":{\"color\":\"#888\",\"width\":0.8},\"mode\":\"lines+text\",\"text\":[null,\"6\",null,null],\"textposition\":\"top center\",\"x\":[-1.0,-0.054054054054054,0.891891891891892,null],\"y\":[-0.40540540540540543,-0.40540540540540543,-0.40540540540540543,null],\"type\":\"scatter\"},{\"hoverinfo\":\"text\",\"hovertext\":[\"MLST: 3<br># samples: 1<br># connections: 1 \\n\",\"MLST: 36<br># samples: 19<br># connections: 0 \\n\",\"MLST: 417<br># samples: 24<br># connections: 1 \\n\",\"MLST: 43<br># samples: 2<br># connections: 0 \\n\",\"MLST: 631<br># samples: 5<br># connections: 0 \\n\",\"MLST: 65<br># samples: 1<br># connections: 0 \\n\",\"MLST: 68<br># samples: 1<br># connections: 0 \\n\"],\"marker\":{\"color\":[10.0,43.58898943540674,48.98979485566356,14.142135623730951,22.360679774997898,10.0,10.0],\"colorbar\":{\"thickness\":15,\"title\":{\"side\":\"right\",\"text\":\"Number of Samples\"},\"xanchor\":\"left\"},\"colorscale\":[[0.0,\"rgb(255,255,217)\"],[0.125,\"rgb(237,248,177)\"],[0.25,\"rgb(199,233,180)\"],[0.375,\"rgb(127,205,187)\"],[0.5,\"rgb(65,182,196)\"],[0.625,\"rgb(29,145,192)\"],[0.75,\"rgb(34,94,168)\"],[0.875,\"rgb(37,52,148)\"],[1.0,\"rgb(8,29,88)\"]],\"line\":{\"color\":\"black\",\"width\":2},\"reversescale\":true,\"showscale\":true,\"size\":[10.0,43.58898943540674,48.98979485566356,14.142135623730951,22.360679774997898,10.0,10.0]},\"mode\":\"markers+text\",\"text\":[\"3\",\"36\",\"417\",\"43\",\"631\",\"65\",\"68\"],\"textposition\":\"bottom center\",\"x\":[-1.0,0.5135135135135136,0.891891891891892,0.32432432432432434,0.13513513513513517,-0.054054054054054036,-0.8108108108108109],\"y\":[-0.40540540540540543,-0.027027027027027018,-0.40540540540540543,0.16216216216216217,0.35135135135135137,0.5405405405405406,-0.21621621621621623],\"type\":\"scatter\"}],                        {\"annotations\":[{\"showarrow\":false,\"text\":\"By: John P.\",\"x\":-0.005,\"xref\":\"paper\",\"y\":-0.002,\"yref\":\"paper\"}],\"height\":800,\"hovermode\":\"closest\",\"showlegend\":false,\"title\":{\"font\":{\"size\":16},\"text\":\"MLST Minimum Spanning Tree\"},\"width\":1400,\"xaxis\":{\"showgrid\":false,\"showticklabels\":false,\"zeroline\":false},\"yaxis\":{\"showgrid\":false,\"showticklabels\":false,\"zeroline\":false},\"template\":{\"data\":{\"histogram2dcontour\":[{\"type\":\"histogram2dcontour\",\"colorbar\":{\"outlinewidth\":0,\"ticks\":\"\"},\"colorscale\":[[0.0,\"#0d0887\"],[0.1111111111111111,\"#46039f\"],[0.2222222222222222,\"#7201a8\"],[0.3333333333333333,\"#9c179e\"],[0.4444444444444444,\"#bd3786\"],[0.5555555555555556,\"#d8576b\"],[0.6666666666666666,\"#ed7953\"],[0.7777777777777778,\"#fb9f3a\"],[0.8888888888888888,\"#fdca26\"],[1.0,\"#f0f921\"]]}],\"choropleth\":[{\"type\":\"choropleth\",\"colorbar\":{\"outlinewidth\":0,\"ticks\":\"\"}}],\"histogram2d\":[{\"type\":\"histogram2d\",\"colorbar\":{\"outlinewidth\":0,\"ticks\":\"\"},\"colorscale\":[[0.0,\"#0d0887\"],[0.1111111111111111,\"#46039f\"],[0.2222222222222222,\"#7201a8\"],[0.3333333333333333,\"#9c179e\"],[0.4444444444444444,\"#bd3786\"],[0.5555555555555556,\"#d8576b\"],[0.6666666666666666,\"#ed7953\"],[0.7777777777777778,\"#fb9f3a\"],[0.8888888888888888,\"#fdca26\"],[1.0,\"#f0f921\"]]}],\"heatmap\":[{\"type\":\"heatmap\",\"colorbar\":{\"outlinewidth\":0,\"ticks\":\"\"},\"colorscale\":[[0.0,\"#0d0887\"],[0.1111111111111111,\"#46039f\"],[0.2222222222222222,\"#7201a8\"],[0.3333333333333333,\"#9c179e\"],[0.4444444444444444,\"#bd3786\"],[0.5555555555555556,\"#d8576b\"],[0.6666666666666666,\"#ed7953\"],[0.7777777777777778,\"#fb9f3a\"],[0.8888888888888888,\"#fdca26\"],[1.0,\"#f0f921\"]]}],\"heatmapgl\":[{\"type\":\"heatmapgl\",\"colorbar\":{\"outlinewidth\":0,\"ticks\":\"\"},\"colorscale\":[[0.0,\"#0d0887\"],[0.1111111111111111,\"#46039f\"],[0.2222222222222222,\"#7201a8\"],[0.3333333333333333,\"#9c179e\"],[0.4444444444444444,\"#bd3786\"],[0.5555555555555556,\"#d8576b\"],[0.6666666666666666,\"#ed7953\"],[0.7777777777777778,\"#fb9f3a\"],[0.8888888888888888,\"#fdca26\"],[1.0,\"#f0f921\"]]}],\"contourcarpet\":[{\"type\":\"contourcarpet\",\"colorbar\":{\"outlinewidth\":0,\"ticks\":\"\"}}],\"contour\":[{\"type\":\"contour\",\"colorbar\":{\"outlinewidth\":0,\"ticks\":\"\"},\"colorscale\":[[0.0,\"#0d0887\"],[0.1111111111111111,\"#46039f\"],[0.2222222222222222,\"#7201a8\"],[0.3333333333333333,\"#9c179e\"],[0.4444444444444444,\"#bd3786\"],[0.5555555555555556,\"#d8576b\"],[0.6666666666666666,\"#ed7953\"],[0.7777777777777778,\"#fb9f3a\"],[0.8888888888888888,\"#fdca26\"],[1.0,\"#f0f921\"]]}],\"surface\":[{\"type\":\"surface\",\"colorbar\":{\"outlinewidth\":0,\"ticks\":\"\"},\"colorscale\":[[0.0,\"#0d0887\"],[0.1111111111111111,\"#46039f\"],[0.2222222222222222,\"#7201a8\"],[0.3333333333333333,\"#9c179e\"],[0.4444444444444444,\"#bd3786\"],[0.5555555555555556,\"#d8576b\"],[0.6666666666666666,\"#ed7953\"],[0.7777777777777778,\"#fb9f3a\"],[0.8888888888888888,\"#fdca26\"],[1.0,\"#f0f921\"]]}],\"mesh3d\":[{\"type\":\"mesh3d\",\"colorbar\":{\"outlinewidth\":0,\"ticks\":\"\"}}],\"scatter\":[{\"fillpattern\":{\"fillmode\":\"overlay\",\"size\":10,\"solidity\":0.2},\"type\":\"scatter\"}],\"parcoords\":[{\"type\":\"parcoords\",\"line\":{\"colorbar\":{\"outlinewidth\":0,\"ticks\":\"\"}}}],\"scatterpolargl\":[{\"type\":\"scatterpolargl\",\"marker\":{\"colorbar\":{\"outlinewidth\":0,\"ticks\":\"\"}}}],\"bar\":[{\"error_x\":{\"color\":\"#2a3f5f\"},\"error_y\":{\"color\":\"#2a3f5f\"},\"marker\":{\"line\":{\"color\":\"#E5ECF6\",\"width\":0.5},\"pattern\":{\"fillmode\":\"overlay\",\"size\":10,\"solidity\":0.2}},\"type\":\"bar\"}],\"scattergeo\":[{\"type\":\"scattergeo\",\"marker\":{\"colorbar\":{\"outlinewidth\":0,\"ticks\":\"\"}}}],\"scatterpolar\":[{\"type\":\"scatterpolar\",\"marker\":{\"colorbar\":{\"outlinewidth\":0,\"ticks\":\"\"}}}],\"histogram\":[{\"marker\":{\"pattern\":{\"fillmode\":\"overlay\",\"size\":10,\"solidity\":0.2}},\"type\":\"histogram\"}],\"scattergl\":[{\"type\":\"scattergl\",\"marker\":{\"colorbar\":{\"outlinewidth\":0,\"ticks\":\"\"}}}],\"scatter3d\":[{\"type\":\"scatter3d\",\"line\":{\"colorbar\":{\"outlinewidth\":0,\"ticks\":\"\"}},\"marker\":{\"colorbar\":{\"outlinewidth\":0,\"ticks\":\"\"}}}],\"scattermapbox\":[{\"type\":\"scattermapbox\",\"marker\":{\"colorbar\":{\"outlinewidth\":0,\"ticks\":\"\"}}}],\"scatterternary\":[{\"type\":\"scatterternary\",\"marker\":{\"colorbar\":{\"outlinewidth\":0,\"ticks\":\"\"}}}],\"scattercarpet\":[{\"type\":\"scattercarpet\",\"marker\":{\"colorbar\":{\"outlinewidth\":0,\"ticks\":\"\"}}}],\"carpet\":[{\"aaxis\":{\"endlinecolor\":\"#2a3f5f\",\"gridcolor\":\"white\",\"linecolor\":\"white\",\"minorgridcolor\":\"white\",\"startlinecolor\":\"#2a3f5f\"},\"baxis\":{\"endlinecolor\":\"#2a3f5f\",\"gridcolor\":\"white\",\"linecolor\":\"white\",\"minorgridcolor\":\"white\",\"startlinecolor\":\"#2a3f5f\"},\"type\":\"carpet\"}],\"table\":[{\"cells\":{\"fill\":{\"color\":\"#EBF0F8\"},\"line\":{\"color\":\"white\"}},\"header\":{\"fill\":{\"color\":\"#C8D4E3\"},\"line\":{\"color\":\"white\"}},\"type\":\"table\"}],\"barpolar\":[{\"marker\":{\"line\":{\"color\":\"#E5ECF6\",\"width\":0.5},\"pattern\":{\"fillmode\":\"overlay\",\"size\":10,\"solidity\":0.2}},\"type\":\"barpolar\"}],\"pie\":[{\"automargin\":true,\"type\":\"pie\"}]},\"layout\":{\"autotypenumbers\":\"strict\",\"colorway\":[\"#636efa\",\"#EF553B\",\"#00cc96\",\"#ab63fa\",\"#FFA15A\",\"#19d3f3\",\"#FF6692\",\"#B6E880\",\"#FF97FF\",\"#FECB52\"],\"font\":{\"color\":\"#2a3f5f\"},\"hovermode\":\"closest\",\"hoverlabel\":{\"align\":\"left\"},\"paper_bgcolor\":\"white\",\"plot_bgcolor\":\"#E5ECF6\",\"polar\":{\"bgcolor\":\"#E5ECF6\",\"angularaxis\":{\"gridcolor\":\"white\",\"linecolor\":\"white\",\"ticks\":\"\"},\"radialaxis\":{\"gridcolor\":\"white\",\"linecolor\":\"white\",\"ticks\":\"\"}},\"ternary\":{\"bgcolor\":\"#E5ECF6\",\"aaxis\":{\"gridcolor\":\"white\",\"linecolor\":\"white\",\"ticks\":\"\"},\"baxis\":{\"gridcolor\":\"white\",\"linecolor\":\"white\",\"ticks\":\"\"},\"caxis\":{\"gridcolor\":\"white\",\"linecolor\":\"white\",\"ticks\":\"\"}},\"coloraxis\":{\"colorbar\":{\"outlinewidth\":0,\"ticks\":\"\"}},\"colorscale\":{\"sequential\":[[0.0,\"#0d0887\"],[0.1111111111111111,\"#46039f\"],[0.2222222222222222,\"#7201a8\"],[0.3333333333333333,\"#9c179e\"],[0.4444444444444444,\"#bd3786\"],[0.5555555555555556,\"#d8576b\"],[0.6666666666666666,\"#ed7953\"],[0.7777777777777778,\"#fb9f3a\"],[0.8888888888888888,\"#fdca26\"],[1.0,\"#f0f921\"]],\"sequentialminus\":[[0.0,\"#0d0887\"],[0.1111111111111111,\"#46039f\"],[0.2222222222222222,\"#7201a8\"],[0.3333333333333333,\"#9c179e\"],[0.4444444444444444,\"#bd3786\"],[0.5555555555555556,\"#d8576b\"],[0.6666666666666666,\"#ed7953\"],[0.7777777777777778,\"#fb9f3a\"],[0.8888888888888888,\"#fdca26\"],[1.0,\"#f0f921\"]],\"diverging\":[[0,\"#8e0152\"],[0.1,\"#c51b7d\"],[0.2,\"#de77ae\"],[0.3,\"#f1b6da\"],[0.4,\"#fde0ef\"],[0.5,\"#f7f7f7\"],[0.6,\"#e6f5d0\"],[0.7,\"#b8e186\"],[0.8,\"#7fbc41\"],[0.9,\"#4d9221\"],[1,\"#276419\"]]},\"xaxis\":{\"gridcolor\":\"white\",\"linecolor\":\"white\",\"ticks\":\"\",\"title\":{\"standoff\":15},\"zerolinecolor\":\"white\",\"automargin\":true,\"zerolinewidth\":2},\"yaxis\":{\"gridcolor\":\"white\",\"linecolor\":\"white\",\"ticks\":\"\",\"title\":{\"standoff\":15},\"zerolinecolor\":\"white\",\"automargin\":true,\"zerolinewidth\":2},\"scene\":{\"xaxis\":{\"backgroundcolor\":\"#E5ECF6\",\"gridcolor\":\"white\",\"linecolor\":\"white\",\"showbackground\":true,\"ticks\":\"\",\"zerolinecolor\":\"white\",\"gridwidth\":2},\"yaxis\":{\"backgroundcolor\":\"#E5ECF6\",\"gridcolor\":\"white\",\"linecolor\":\"white\",\"showbackground\":true,\"ticks\":\"\",\"zerolinecolor\":\"white\",\"gridwidth\":2},\"zaxis\":{\"backgroundcolor\":\"#E5ECF6\",\"gridcolor\":\"white\",\"linecolor\":\"white\",\"showbackground\":true,\"ticks\":\"\",\"zerolinecolor\":\"white\",\"gridwidth\":2}},\"shapedefaults\":{\"line\":{\"color\":\"#2a3f5f\"}},\"annotationdefaults\":{\"arrowcolor\":\"#2a3f5f\",\"arrowhead\":0,\"arrowwidth\":1},\"geo\":{\"bgcolor\":\"white\",\"landcolor\":\"#E5ECF6\",\"subunitcolor\":\"white\",\"showland\":true,\"showlakes\":true,\"lakecolor\":\"white\"},\"title\":{\"x\":0.05},\"mapbox\":{\"style\":\"light\"}}},\"font\":{\"size\":15}},                        {\"responsive\": true}                    ).then(function(){\n",
       "                            \n",
       "var gd = document.getElementById('84fd10e0-c605-462e-8341-00e8ef414a53');\n",
       "var x = new MutationObserver(function (mutations, observer) {{\n",
       "        var display = window.getComputedStyle(gd).display;\n",
       "        if (!display || display === 'none') {{\n",
       "            console.log([gd, 'removed!']);\n",
       "            Plotly.purge(gd);\n",
       "            observer.disconnect();\n",
       "        }}\n",
       "}});\n",
       "\n",
       "// Listen for the removal of the full notebook cells\n",
       "var notebookContainer = gd.closest('#notebook-container');\n",
       "if (notebookContainer) {{\n",
       "    x.observe(notebookContainer, {childList: true});\n",
       "}}\n",
       "\n",
       "// Listen for the clearing of the current output cell\n",
       "var outputEl = gd.closest('.output');\n",
       "if (outputEl) {{\n",
       "    x.observe(outputEl, {childList: true});\n",
       "}}\n",
       "\n",
       "                        })                };                });            </script>        </div>"
      ]
     },
     "metadata": {},
     "output_type": "display_data"
    }
   ],
   "source": [
    "fig = plot_graph(mst)\n",
    "fig.show()"
   ]
  },
  {
   "cell_type": "code",
   "execution_count": null,
   "metadata": {},
   "outputs": [],
   "source": []
  }
 ],
 "metadata": {
  "kernelspec": {
   "display_name": "Python 3 (ipykernel)",
   "language": "python",
   "name": "python3"
  },
  "language_info": {
   "codemirror_mode": {
    "name": "ipython",
    "version": 3
   },
   "file_extension": ".py",
   "mimetype": "text/x-python",
   "name": "python",
   "nbconvert_exporter": "python",
   "pygments_lexer": "ipython3",
   "version": "3.10.11"
  },
  "orig_nbformat": 4
 },
 "nbformat": 4,
 "nbformat_minor": 2
}
